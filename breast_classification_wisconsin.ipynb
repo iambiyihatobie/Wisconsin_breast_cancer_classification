{
 "cells": [
  {
   "cell_type": "markdown",
   "metadata": {},
   "source": [
    "# TensorFlow: Breast Cancer Classification"
   ]
  },
  {
   "cell_type": "markdown",
   "metadata": {},
   "source": [
    "#### Start"
   ]
  },
  {
   "cell_type": "code",
   "execution_count": 1,
   "metadata": {},
   "outputs": [],
   "source": [
    "# Initial System Setup\n",
    "from __future__ import absolute_import, division, print_function, unicode_literals\n",
    "\n",
    "import pathlib\n",
    "\n",
    "import matplotlib.pyplot as plt\n",
    "import pandas as pd\n",
    "import seaborn as sns\n",
    "\n",
    "import tensorflow as tf\n",
    "\n",
    "from tensorflow import keras\n",
    "from tensorflow.keras import layers"
   ]
  },
  {
   "cell_type": "code",
   "execution_count": 2,
   "metadata": {},
   "outputs": [
    {
     "name": "stdout",
     "output_type": "stream",
     "text": [
      "2.0.0\n"
     ]
    }
   ],
   "source": [
    "# tensorFlow Version\n",
    "print(tf.__version__)"
   ]
  },
  {
   "cell_type": "code",
   "execution_count": 3,
   "metadata": {},
   "outputs": [],
   "source": [
    "# import raw data if data has headers\n",
    "# column order in CSV file\n",
    "column_names = ['code_number','Clump_Thickness', 'Cell_Size', 'Cell_Shape', ' Marginal_Adhesion',\n",
    "                'Epithelial_Cell', 'Bare_Nuclei', 'Bland_Chromatin', 'Normal_Nucleoli', 'Mitoses', 'Class']\n",
    "\n",
    "raw_dataset = pd.read_csv('breast-cancer-wisconsin.data', names=column_names,\n",
    "                      na_values = \"?\", sep=\",\", skipinitialspace=True)"
   ]
  },
  {
   "cell_type": "code",
   "execution_count": 4,
   "metadata": {},
   "outputs": [],
   "source": [
    "dataset = raw_dataset.copy()\n",
    "dataset = dataset.drop('code_number', 1)"
   ]
  },
  {
   "cell_type": "code",
   "execution_count": 5,
   "metadata": {},
   "outputs": [
    {
     "data": {
      "text/html": [
       "<div>\n",
       "<style scoped>\n",
       "    .dataframe tbody tr th:only-of-type {\n",
       "        vertical-align: middle;\n",
       "    }\n",
       "\n",
       "    .dataframe tbody tr th {\n",
       "        vertical-align: top;\n",
       "    }\n",
       "\n",
       "    .dataframe thead th {\n",
       "        text-align: right;\n",
       "    }\n",
       "</style>\n",
       "<table border=\"1\" class=\"dataframe\">\n",
       "  <thead>\n",
       "    <tr style=\"text-align: right;\">\n",
       "      <th></th>\n",
       "      <th>Clump_Thickness</th>\n",
       "      <th>Cell_Size</th>\n",
       "      <th>Cell_Shape</th>\n",
       "      <th>Marginal_Adhesion</th>\n",
       "      <th>Epithelial_Cell</th>\n",
       "      <th>Bare_Nuclei</th>\n",
       "      <th>Bland_Chromatin</th>\n",
       "      <th>Normal_Nucleoli</th>\n",
       "      <th>Mitoses</th>\n",
       "      <th>Class</th>\n",
       "    </tr>\n",
       "  </thead>\n",
       "  <tbody>\n",
       "    <tr>\n",
       "      <th>694</th>\n",
       "      <td>3</td>\n",
       "      <td>1</td>\n",
       "      <td>1</td>\n",
       "      <td>1</td>\n",
       "      <td>3</td>\n",
       "      <td>2.0</td>\n",
       "      <td>1</td>\n",
       "      <td>1</td>\n",
       "      <td>1</td>\n",
       "      <td>2</td>\n",
       "    </tr>\n",
       "    <tr>\n",
       "      <th>695</th>\n",
       "      <td>2</td>\n",
       "      <td>1</td>\n",
       "      <td>1</td>\n",
       "      <td>1</td>\n",
       "      <td>2</td>\n",
       "      <td>1.0</td>\n",
       "      <td>1</td>\n",
       "      <td>1</td>\n",
       "      <td>1</td>\n",
       "      <td>2</td>\n",
       "    </tr>\n",
       "    <tr>\n",
       "      <th>696</th>\n",
       "      <td>5</td>\n",
       "      <td>10</td>\n",
       "      <td>10</td>\n",
       "      <td>3</td>\n",
       "      <td>7</td>\n",
       "      <td>3.0</td>\n",
       "      <td>8</td>\n",
       "      <td>10</td>\n",
       "      <td>2</td>\n",
       "      <td>4</td>\n",
       "    </tr>\n",
       "    <tr>\n",
       "      <th>697</th>\n",
       "      <td>4</td>\n",
       "      <td>8</td>\n",
       "      <td>6</td>\n",
       "      <td>4</td>\n",
       "      <td>3</td>\n",
       "      <td>4.0</td>\n",
       "      <td>10</td>\n",
       "      <td>6</td>\n",
       "      <td>1</td>\n",
       "      <td>4</td>\n",
       "    </tr>\n",
       "    <tr>\n",
       "      <th>698</th>\n",
       "      <td>4</td>\n",
       "      <td>8</td>\n",
       "      <td>8</td>\n",
       "      <td>5</td>\n",
       "      <td>4</td>\n",
       "      <td>5.0</td>\n",
       "      <td>10</td>\n",
       "      <td>4</td>\n",
       "      <td>1</td>\n",
       "      <td>4</td>\n",
       "    </tr>\n",
       "  </tbody>\n",
       "</table>\n",
       "</div>"
      ],
      "text/plain": [
       "     Clump_Thickness  Cell_Size  Cell_Shape   Marginal_Adhesion  \\\n",
       "694                3          1           1                   1   \n",
       "695                2          1           1                   1   \n",
       "696                5         10          10                   3   \n",
       "697                4          8           6                   4   \n",
       "698                4          8           8                   5   \n",
       "\n",
       "     Epithelial_Cell  Bare_Nuclei  Bland_Chromatin  Normal_Nucleoli  Mitoses  \\\n",
       "694                3          2.0                1                1        1   \n",
       "695                2          1.0                1                1        1   \n",
       "696                7          3.0                8               10        2   \n",
       "697                3          4.0               10                6        1   \n",
       "698                4          5.0               10                4        1   \n",
       "\n",
       "     Class  \n",
       "694      2  \n",
       "695      2  \n",
       "696      4  \n",
       "697      4  \n",
       "698      4  "
      ]
     },
     "execution_count": 5,
     "metadata": {},
     "output_type": "execute_result"
    }
   ],
   "source": [
    "dataset.tail()"
   ]
  },
  {
   "cell_type": "code",
   "execution_count": 6,
   "metadata": {},
   "outputs": [
    {
     "data": {
      "text/plain": [
       "Clump_Thickness        0\n",
       "Cell_Size              0\n",
       "Cell_Shape             0\n",
       " Marginal_Adhesion     0\n",
       "Epithelial_Cell        0\n",
       "Bare_Nuclei           16\n",
       "Bland_Chromatin        0\n",
       "Normal_Nucleoli        0\n",
       "Mitoses                0\n",
       "Class                  0\n",
       "dtype: int64"
      ]
     },
     "execution_count": 6,
     "metadata": {},
     "output_type": "execute_result"
    }
   ],
   "source": [
    "# Check if the dataset contains unknown values.\n",
    "\n",
    "dataset.isna().sum()"
   ]
  },
  {
   "cell_type": "code",
   "execution_count": 9,
   "metadata": {},
   "outputs": [],
   "source": [
    "# drop those rows containing any values if any\n",
    "dataset = dataset.dropna()"
   ]
  },
  {
   "cell_type": "code",
   "execution_count": 10,
   "metadata": {},
   "outputs": [
    {
     "name": "stdout",
     "output_type": "stream",
     "text": [
      "546 137\n"
     ]
    }
   ],
   "source": [
    "# Split the data into train and test\n",
    "train_dataset = dataset.sample(frac=0.8,random_state=0)\n",
    "test_dataset = dataset.drop(train_dataset.index)\n",
    "\n",
    "print(len(train_dataset), len(test_dataset))"
   ]
  },
  {
   "cell_type": "code",
   "execution_count": 12,
   "metadata": {},
   "outputs": [
    {
     "data": {
      "text/html": [
       "<div>\n",
       "<style scoped>\n",
       "    .dataframe tbody tr th:only-of-type {\n",
       "        vertical-align: middle;\n",
       "    }\n",
       "\n",
       "    .dataframe tbody tr th {\n",
       "        vertical-align: top;\n",
       "    }\n",
       "\n",
       "    .dataframe thead th {\n",
       "        text-align: right;\n",
       "    }\n",
       "</style>\n",
       "<table border=\"1\" class=\"dataframe\">\n",
       "  <thead>\n",
       "    <tr style=\"text-align: right;\">\n",
       "      <th></th>\n",
       "      <th>count</th>\n",
       "      <th>mean</th>\n",
       "      <th>std</th>\n",
       "      <th>min</th>\n",
       "      <th>25%</th>\n",
       "      <th>50%</th>\n",
       "      <th>75%</th>\n",
       "      <th>max</th>\n",
       "    </tr>\n",
       "  </thead>\n",
       "  <tbody>\n",
       "    <tr>\n",
       "      <th>Clump_Thickness</th>\n",
       "      <td>546.0</td>\n",
       "      <td>4.388278</td>\n",
       "      <td>2.810754</td>\n",
       "      <td>1.0</td>\n",
       "      <td>2.0</td>\n",
       "      <td>4.0</td>\n",
       "      <td>6.0</td>\n",
       "      <td>10.0</td>\n",
       "    </tr>\n",
       "    <tr>\n",
       "      <th>Cell_Size</th>\n",
       "      <td>546.0</td>\n",
       "      <td>3.141026</td>\n",
       "      <td>3.083588</td>\n",
       "      <td>1.0</td>\n",
       "      <td>1.0</td>\n",
       "      <td>1.0</td>\n",
       "      <td>5.0</td>\n",
       "      <td>10.0</td>\n",
       "    </tr>\n",
       "    <tr>\n",
       "      <th>Cell_Shape</th>\n",
       "      <td>546.0</td>\n",
       "      <td>3.212454</td>\n",
       "      <td>3.049246</td>\n",
       "      <td>1.0</td>\n",
       "      <td>1.0</td>\n",
       "      <td>1.0</td>\n",
       "      <td>5.0</td>\n",
       "      <td>10.0</td>\n",
       "    </tr>\n",
       "    <tr>\n",
       "      <th>Marginal_Adhesion</th>\n",
       "      <td>546.0</td>\n",
       "      <td>2.813187</td>\n",
       "      <td>2.846838</td>\n",
       "      <td>1.0</td>\n",
       "      <td>1.0</td>\n",
       "      <td>1.0</td>\n",
       "      <td>3.0</td>\n",
       "      <td>10.0</td>\n",
       "    </tr>\n",
       "    <tr>\n",
       "      <th>Epithelial_Cell</th>\n",
       "      <td>546.0</td>\n",
       "      <td>3.223443</td>\n",
       "      <td>2.236782</td>\n",
       "      <td>1.0</td>\n",
       "      <td>2.0</td>\n",
       "      <td>2.0</td>\n",
       "      <td>4.0</td>\n",
       "      <td>10.0</td>\n",
       "    </tr>\n",
       "    <tr>\n",
       "      <th>Bare_Nuclei</th>\n",
       "      <td>546.0</td>\n",
       "      <td>3.624542</td>\n",
       "      <td>3.696771</td>\n",
       "      <td>1.0</td>\n",
       "      <td>1.0</td>\n",
       "      <td>1.0</td>\n",
       "      <td>7.0</td>\n",
       "      <td>10.0</td>\n",
       "    </tr>\n",
       "    <tr>\n",
       "      <th>Bland_Chromatin</th>\n",
       "      <td>546.0</td>\n",
       "      <td>3.437729</td>\n",
       "      <td>2.467544</td>\n",
       "      <td>1.0</td>\n",
       "      <td>2.0</td>\n",
       "      <td>3.0</td>\n",
       "      <td>5.0</td>\n",
       "      <td>10.0</td>\n",
       "    </tr>\n",
       "    <tr>\n",
       "      <th>Normal_Nucleoli</th>\n",
       "      <td>546.0</td>\n",
       "      <td>2.785714</td>\n",
       "      <td>2.965839</td>\n",
       "      <td>1.0</td>\n",
       "      <td>1.0</td>\n",
       "      <td>1.0</td>\n",
       "      <td>3.0</td>\n",
       "      <td>10.0</td>\n",
       "    </tr>\n",
       "    <tr>\n",
       "      <th>Mitoses</th>\n",
       "      <td>546.0</td>\n",
       "      <td>1.615385</td>\n",
       "      <td>1.777139</td>\n",
       "      <td>1.0</td>\n",
       "      <td>1.0</td>\n",
       "      <td>1.0</td>\n",
       "      <td>1.0</td>\n",
       "      <td>10.0</td>\n",
       "    </tr>\n",
       "  </tbody>\n",
       "</table>\n",
       "</div>"
      ],
      "text/plain": [
       "                    count      mean       std  min  25%  50%  75%   max\n",
       "Clump_Thickness     546.0  4.388278  2.810754  1.0  2.0  4.0  6.0  10.0\n",
       "Cell_Size           546.0  3.141026  3.083588  1.0  1.0  1.0  5.0  10.0\n",
       "Cell_Shape          546.0  3.212454  3.049246  1.0  1.0  1.0  5.0  10.0\n",
       " Marginal_Adhesion  546.0  2.813187  2.846838  1.0  1.0  1.0  3.0  10.0\n",
       "Epithelial_Cell     546.0  3.223443  2.236782  1.0  2.0  2.0  4.0  10.0\n",
       "Bare_Nuclei         546.0  3.624542  3.696771  1.0  1.0  1.0  7.0  10.0\n",
       "Bland_Chromatin     546.0  3.437729  2.467544  1.0  2.0  3.0  5.0  10.0\n",
       "Normal_Nucleoli     546.0  2.785714  2.965839  1.0  1.0  1.0  3.0  10.0\n",
       "Mitoses             546.0  1.615385  1.777139  1.0  1.0  1.0  1.0  10.0"
      ]
     },
     "execution_count": 12,
     "metadata": {},
     "output_type": "execute_result"
    }
   ],
   "source": [
    "# Also look at the overall statistics\n",
    "train_stats = train_dataset.describe()\n",
    "train_stats.pop(\"Class\")\n",
    "train_stats = train_stats.transpose()\n",
    "train_stats"
   ]
  },
  {
   "cell_type": "code",
   "execution_count": 13,
   "metadata": {},
   "outputs": [],
   "source": [
    "# Split features from labels\n",
    "# Separate the target value, or \"label\", from the features. \n",
    "# This label is the value that you will train the model to predict.\n",
    "\n",
    "train_labels = train_dataset.pop('Class')\n",
    "test_labels = test_dataset.pop('Class')"
   ]
  },
  {
   "cell_type": "code",
   "execution_count": 14,
   "metadata": {},
   "outputs": [],
   "source": [
    "# Normalize the data \n",
    "\n",
    "def norm(x):\n",
    "  return (x - train_stats['mean']) / train_stats['std']\n",
    "normed_train_data = norm(train_dataset)\n",
    "normed_test_data = norm(test_dataset)"
   ]
  },
  {
   "cell_type": "code",
   "execution_count": 15,
   "metadata": {},
   "outputs": [
    {
     "data": {
      "text/html": [
       "<div>\n",
       "<style scoped>\n",
       "    .dataframe tbody tr th:only-of-type {\n",
       "        vertical-align: middle;\n",
       "    }\n",
       "\n",
       "    .dataframe tbody tr th {\n",
       "        vertical-align: top;\n",
       "    }\n",
       "\n",
       "    .dataframe thead th {\n",
       "        text-align: right;\n",
       "    }\n",
       "</style>\n",
       "<table border=\"1\" class=\"dataframe\">\n",
       "  <thead>\n",
       "    <tr style=\"text-align: right;\">\n",
       "      <th></th>\n",
       "      <th>count</th>\n",
       "      <th>mean</th>\n",
       "      <th>std</th>\n",
       "      <th>min</th>\n",
       "      <th>25%</th>\n",
       "      <th>50%</th>\n",
       "      <th>75%</th>\n",
       "      <th>max</th>\n",
       "    </tr>\n",
       "  </thead>\n",
       "  <tbody>\n",
       "    <tr>\n",
       "      <th>Clump_Thickness</th>\n",
       "      <td>546.0</td>\n",
       "      <td>-1.512831e-16</td>\n",
       "      <td>1.0</td>\n",
       "      <td>-1.205469</td>\n",
       "      <td>-0.849693</td>\n",
       "      <td>-0.138140</td>\n",
       "      <td>0.573412</td>\n",
       "      <td>1.996518</td>\n",
       "    </tr>\n",
       "    <tr>\n",
       "      <th>Cell_Size</th>\n",
       "      <td>546.0</td>\n",
       "      <td>2.277381e-17</td>\n",
       "      <td>1.0</td>\n",
       "      <td>-0.694329</td>\n",
       "      <td>-0.694329</td>\n",
       "      <td>-0.694329</td>\n",
       "      <td>0.602861</td>\n",
       "      <td>2.224348</td>\n",
       "    </tr>\n",
       "    <tr>\n",
       "      <th>Cell_Shape</th>\n",
       "      <td>546.0</td>\n",
       "      <td>-5.856121e-17</td>\n",
       "      <td>1.0</td>\n",
       "      <td>-0.725574</td>\n",
       "      <td>-0.725574</td>\n",
       "      <td>-0.725574</td>\n",
       "      <td>0.586226</td>\n",
       "      <td>2.225975</td>\n",
       "    </tr>\n",
       "    <tr>\n",
       "      <th>Marginal_Adhesion</th>\n",
       "      <td>546.0</td>\n",
       "      <td>-1.398962e-16</td>\n",
       "      <td>1.0</td>\n",
       "      <td>-0.636913</td>\n",
       "      <td>-0.636913</td>\n",
       "      <td>-0.636913</td>\n",
       "      <td>0.065621</td>\n",
       "      <td>2.524490</td>\n",
       "    </tr>\n",
       "    <tr>\n",
       "      <th>Epithelial_Cell</th>\n",
       "      <td>546.0</td>\n",
       "      <td>-6.506802e-17</td>\n",
       "      <td>1.0</td>\n",
       "      <td>-0.994037</td>\n",
       "      <td>-0.546966</td>\n",
       "      <td>-0.546966</td>\n",
       "      <td>0.347176</td>\n",
       "      <td>3.029601</td>\n",
       "    </tr>\n",
       "    <tr>\n",
       "      <th>Bare_Nuclei</th>\n",
       "      <td>546.0</td>\n",
       "      <td>2.928061e-17</td>\n",
       "      <td>1.0</td>\n",
       "      <td>-0.709955</td>\n",
       "      <td>-0.709955</td>\n",
       "      <td>-0.709955</td>\n",
       "      <td>0.913083</td>\n",
       "      <td>1.724602</td>\n",
       "    </tr>\n",
       "    <tr>\n",
       "      <th>Bland_Chromatin</th>\n",
       "      <td>546.0</td>\n",
       "      <td>-7.808162e-17</td>\n",
       "      <td>1.0</td>\n",
       "      <td>-0.987917</td>\n",
       "      <td>-0.582656</td>\n",
       "      <td>-0.177395</td>\n",
       "      <td>0.633128</td>\n",
       "      <td>2.659434</td>\n",
       "    </tr>\n",
       "    <tr>\n",
       "      <th>Normal_Nucleoli</th>\n",
       "      <td>546.0</td>\n",
       "      <td>6.994812e-17</td>\n",
       "      <td>1.0</td>\n",
       "      <td>-0.602094</td>\n",
       "      <td>-0.602094</td>\n",
       "      <td>-0.602094</td>\n",
       "      <td>0.072251</td>\n",
       "      <td>2.432461</td>\n",
       "    </tr>\n",
       "    <tr>\n",
       "      <th>Mitoses</th>\n",
       "      <td>546.0</td>\n",
       "      <td>3.253401e-17</td>\n",
       "      <td>1.0</td>\n",
       "      <td>-0.346278</td>\n",
       "      <td>-0.346278</td>\n",
       "      <td>-0.346278</td>\n",
       "      <td>-0.346278</td>\n",
       "      <td>4.718042</td>\n",
       "    </tr>\n",
       "  </tbody>\n",
       "</table>\n",
       "</div>"
      ],
      "text/plain": [
       "                    count          mean  std       min       25%       50%  \\\n",
       "Clump_Thickness     546.0 -1.512831e-16  1.0 -1.205469 -0.849693 -0.138140   \n",
       "Cell_Size           546.0  2.277381e-17  1.0 -0.694329 -0.694329 -0.694329   \n",
       "Cell_Shape          546.0 -5.856121e-17  1.0 -0.725574 -0.725574 -0.725574   \n",
       " Marginal_Adhesion  546.0 -1.398962e-16  1.0 -0.636913 -0.636913 -0.636913   \n",
       "Epithelial_Cell     546.0 -6.506802e-17  1.0 -0.994037 -0.546966 -0.546966   \n",
       "Bare_Nuclei         546.0  2.928061e-17  1.0 -0.709955 -0.709955 -0.709955   \n",
       "Bland_Chromatin     546.0 -7.808162e-17  1.0 -0.987917 -0.582656 -0.177395   \n",
       "Normal_Nucleoli     546.0  6.994812e-17  1.0 -0.602094 -0.602094 -0.602094   \n",
       "Mitoses             546.0  3.253401e-17  1.0 -0.346278 -0.346278 -0.346278   \n",
       "\n",
       "                         75%       max  \n",
       "Clump_Thickness     0.573412  1.996518  \n",
       "Cell_Size           0.602861  2.224348  \n",
       "Cell_Shape          0.586226  2.225975  \n",
       " Marginal_Adhesion  0.065621  2.524490  \n",
       "Epithelial_Cell     0.347176  3.029601  \n",
       "Bare_Nuclei         0.913083  1.724602  \n",
       "Bland_Chromatin     0.633128  2.659434  \n",
       "Normal_Nucleoli     0.072251  2.432461  \n",
       "Mitoses            -0.346278  4.718042  "
      ]
     },
     "execution_count": 15,
     "metadata": {},
     "output_type": "execute_result"
    }
   ],
   "source": [
    "# view the normalized data\n",
    "# This normalized data is what we will use to train the model.\n",
    "normed_train_data.describe().transpose()"
   ]
  },
  {
   "cell_type": "markdown",
   "metadata": {},
   "source": [
    "### The model"
   ]
  },
  {
   "cell_type": "code",
   "execution_count": 21,
   "metadata": {},
   "outputs": [],
   "source": [
    "# Build the model\n",
    "\n",
    "# a Sequential model with two densely connected hidden layers, & an output layer that returns a single, continuous value. \n",
    "# The model building steps are wrapped in a function, build_model, since we'll create a second model, later on.\n",
    "\n",
    "def build_model():\n",
    "    model = keras.Sequential([\n",
    "       layers.Dense(64, activation='relu', input_shape=[len(train_dataset.keys())]),\n",
    "       layers.Dense(64, activation='relu'),\n",
    "       layers.Dense(1)])\n",
    "    optimizer = tf.keras.optimizers.RMSprop(0.001)\n",
    "    \n",
    "    model.compile(loss='mse',\n",
    "                optimizer=optimizer,\n",
    "                metrics=['mae', 'mse'])\n",
    "    return model"
   ]
  },
  {
   "cell_type": "code",
   "execution_count": 22,
   "metadata": {},
   "outputs": [],
   "source": [
    "model = build_model()"
   ]
  },
  {
   "cell_type": "code",
   "execution_count": 23,
   "metadata": {},
   "outputs": [
    {
     "name": "stdout",
     "output_type": "stream",
     "text": [
      "Model: \"sequential_1\"\n",
      "_________________________________________________________________\n",
      "Layer (type)                 Output Shape              Param #   \n",
      "=================================================================\n",
      "dense_3 (Dense)              (None, 64)                640       \n",
      "_________________________________________________________________\n",
      "dense_4 (Dense)              (None, 64)                4160      \n",
      "_________________________________________________________________\n",
      "dense_5 (Dense)              (None, 1)                 65        \n",
      "=================================================================\n",
      "Total params: 4,865\n",
      "Trainable params: 4,865\n",
      "Non-trainable params: 0\n",
      "_________________________________________________________________\n"
     ]
    }
   ],
   "source": [
    "# Inspect the model\n",
    "model.summary()"
   ]
  },
  {
   "cell_type": "code",
   "execution_count": 24,
   "metadata": {},
   "outputs": [
    {
     "name": "stdout",
     "output_type": "stream",
     "text": [
      "WARNING:tensorflow:Falling back from v2 loop because of error: Failed to find data adapter that can handle input: <class 'pandas.core.frame.DataFrame'>, <class 'NoneType'>\n"
     ]
    },
    {
     "data": {
      "text/plain": [
       "array([[-0.37565592],\n",
       "       [-0.38458055],\n",
       "       [ 0.18505268],\n",
       "       [ 0.00520385],\n",
       "       [-0.48572078],\n",
       "       [-0.42405045],\n",
       "       [-0.22748165],\n",
       "       [ 0.22868012],\n",
       "       [-0.37728655],\n",
       "       [-0.4412674 ]], dtype=float32)"
      ]
     },
     "execution_count": 24,
     "metadata": {},
     "output_type": "execute_result"
    }
   ],
   "source": [
    "# Now try out the model. \n",
    "# Take a batch of 10 examples from the training data and call model.predict on it.\n",
    "\n",
    "example_batch = normed_train_data[:10]\n",
    "example_result = model.predict(example_batch)\n",
    "example_result"
   ]
  },
  {
   "cell_type": "code",
   "execution_count": 25,
   "metadata": {},
   "outputs": [
    {
     "name": "stdout",
     "output_type": "stream",
     "text": [
      "WARNING:tensorflow:Falling back from v2 loop because of error: Failed to find data adapter that can handle input: <class 'pandas.core.frame.DataFrame'>, <class 'NoneType'>\n",
      "\n",
      "....................................................................................................\n",
      "....................................................................................................\n",
      "....................................................................................................\n",
      "....................................................................................................\n",
      "....................................................................................................\n",
      "....................................................................................................\n",
      "....................................................................................................\n",
      "....................................................................................................\n",
      "....................................................................................................\n",
      "...................................................................................................."
     ]
    }
   ],
   "source": [
    "# Train the model\n",
    "# Train the model for 1000 epochs,\n",
    "# and record the training and validation accuracy in the history object.\n",
    "\n",
    "# Display training progress by printing a single dot for each completed epoch\n",
    "class PrintDot(keras.callbacks.Callback):\n",
    "  def on_epoch_end(self, epoch, logs):\n",
    "    if epoch % 100 == 0: print('')\n",
    "    print('.', end='')\n",
    "    \n",
    "EPOCHS = 1000\n",
    "    \n",
    "history = model.fit(\n",
    "    normed_train_data, train_labels,\n",
    "    epochs=EPOCHS, validation_split = 0.2, verbose=0,\n",
    "    callbacks=[PrintDot()])"
   ]
  },
  {
   "cell_type": "code",
   "execution_count": 27,
   "metadata": {},
   "outputs": [
    {
     "data": {
      "text/html": [
       "<div>\n",
       "<style scoped>\n",
       "    .dataframe tbody tr th:only-of-type {\n",
       "        vertical-align: middle;\n",
       "    }\n",
       "\n",
       "    .dataframe tbody tr th {\n",
       "        vertical-align: top;\n",
       "    }\n",
       "\n",
       "    .dataframe thead th {\n",
       "        text-align: right;\n",
       "    }\n",
       "</style>\n",
       "<table border=\"1\" class=\"dataframe\">\n",
       "  <thead>\n",
       "    <tr style=\"text-align: right;\">\n",
       "      <th></th>\n",
       "      <th>loss</th>\n",
       "      <th>mae</th>\n",
       "      <th>mse</th>\n",
       "      <th>val_loss</th>\n",
       "      <th>val_mae</th>\n",
       "      <th>val_mse</th>\n",
       "      <th>epoch</th>\n",
       "    </tr>\n",
       "  </thead>\n",
       "  <tbody>\n",
       "    <tr>\n",
       "      <th>995</th>\n",
       "      <td>0.002876</td>\n",
       "      <td>0.041828</td>\n",
       "      <td>0.002876</td>\n",
       "      <td>0.141675</td>\n",
       "      <td>0.181437</td>\n",
       "      <td>0.141675</td>\n",
       "      <td>995</td>\n",
       "    </tr>\n",
       "    <tr>\n",
       "      <th>996</th>\n",
       "      <td>0.004074</td>\n",
       "      <td>0.049812</td>\n",
       "      <td>0.004074</td>\n",
       "      <td>0.146600</td>\n",
       "      <td>0.192921</td>\n",
       "      <td>0.146600</td>\n",
       "      <td>996</td>\n",
       "    </tr>\n",
       "    <tr>\n",
       "      <th>997</th>\n",
       "      <td>0.005062</td>\n",
       "      <td>0.054288</td>\n",
       "      <td>0.005062</td>\n",
       "      <td>0.134790</td>\n",
       "      <td>0.166451</td>\n",
       "      <td>0.134790</td>\n",
       "      <td>997</td>\n",
       "    </tr>\n",
       "    <tr>\n",
       "      <th>998</th>\n",
       "      <td>0.004968</td>\n",
       "      <td>0.048214</td>\n",
       "      <td>0.004968</td>\n",
       "      <td>0.137452</td>\n",
       "      <td>0.180864</td>\n",
       "      <td>0.137452</td>\n",
       "      <td>998</td>\n",
       "    </tr>\n",
       "    <tr>\n",
       "      <th>999</th>\n",
       "      <td>0.003080</td>\n",
       "      <td>0.042241</td>\n",
       "      <td>0.003080</td>\n",
       "      <td>0.134889</td>\n",
       "      <td>0.166251</td>\n",
       "      <td>0.134889</td>\n",
       "      <td>999</td>\n",
       "    </tr>\n",
       "  </tbody>\n",
       "</table>\n",
       "</div>"
      ],
      "text/plain": [
       "         loss       mae       mse  val_loss   val_mae   val_mse  epoch\n",
       "995  0.002876  0.041828  0.002876  0.141675  0.181437  0.141675    995\n",
       "996  0.004074  0.049812  0.004074  0.146600  0.192921  0.146600    996\n",
       "997  0.005062  0.054288  0.005062  0.134790  0.166451  0.134790    997\n",
       "998  0.004968  0.048214  0.004968  0.137452  0.180864  0.137452    998\n",
       "999  0.003080  0.042241  0.003080  0.134889  0.166251  0.134889    999"
      ]
     },
     "execution_count": 27,
     "metadata": {},
     "output_type": "execute_result"
    }
   ],
   "source": [
    "# View History\n",
    "hist = pd.DataFrame(history.history)\n",
    "hist['epoch'] = history.epoch\n",
    "hist.tail()"
   ]
  },
  {
   "cell_type": "code",
   "execution_count": 28,
   "metadata": {},
   "outputs": [
    {
     "data": {
      "image/png": "[encoded data removed]",
      "text/plain": [
       "<Figure size 432x288 with 1 Axes>"
      ]
     },
     "metadata": {
      "needs_background": "light"
     },
     "output_type": "display_data"
    },
    {
     "data": {
      "image/png": "[encoded data removed]",
      "text/plain": [
       "<Figure size 432x288 with 1 Axes>"
      ]
     },
     "metadata": {
      "needs_background": "light"
     },
     "output_type": "display_data"
    }
   ],
   "source": [
    "# Plot History\n",
    "\n",
    "def plot_history(history):\n",
    "    hist = pd.DataFrame(history.history)\n",
    "    hist['epoch'] = history.epoch\n",
    "\n",
    "    plt.figure()\n",
    "    plt.xlabel('Epoch')\n",
    "    plt.ylabel('Mean Abs Error [MPG]')\n",
    "    plt.plot(hist['epoch'], hist['mae'],\n",
    "             label='Train Error')\n",
    "    plt.plot(hist['epoch'], hist['val_mae'],\n",
    "             label = 'Val Error')\n",
    "    plt.ylim([0,5])\n",
    "    plt.legend()\n",
    "\n",
    "    plt.figure()\n",
    "    plt.xlabel('Epoch')\n",
    "    plt.ylabel('Mean Square Error [$MPG^2$]')\n",
    "    plt.plot(hist['epoch'], hist['mse'],\n",
    "             label='Train Error')\n",
    "    plt.plot(hist['epoch'], hist['val_mse'],\n",
    "             label = 'Val Error')\n",
    "    plt.ylim([0,20])\n",
    "    plt.legend()\n",
    "    plt.show()\n",
    "    \n",
    "    \n",
    "plot_history(history)"
   ]
  },
  {
   "cell_type": "code",
   "execution_count": 29,
   "metadata": {},
   "outputs": [
    {
     "name": "stdout",
     "output_type": "stream",
     "text": [
      "WARNING:tensorflow:Falling back from v2 loop because of error: Failed to find data adapter that can handle input: <class 'pandas.core.frame.DataFrame'>, <class 'NoneType'>\n",
      "\n",
      "..............................."
     ]
    },
    {
     "data": {
      "image/png": "[encoded data removed]",
      "text/plain": [
       "<Figure size 432x288 with 1 Axes>"
      ]
     },
     "metadata": {
      "needs_background": "light"
     },
     "output_type": "display_data"
    },
    {
     "data": {
      "image/png": "[encoded data removed]",
      "text/plain": [
       "<Figure size 432x288 with 1 Axes>"
      ]
     },
     "metadata": {
      "needs_background": "light"
     },
     "output_type": "display_data"
    }
   ],
   "source": [
    "# Let's update the model.fit call to automatically stop training when the validation score doesn't improve.\n",
    "\n",
    "model = build_model()\n",
    "\n",
    "# The patience parameter is the amount of epochs to check for improvement\n",
    "early_stop = keras.callbacks.EarlyStopping(monitor='val_loss', patience=10)\n",
    "\n",
    "history = model.fit(normed_train_data, train_labels, epochs=EPOCHS,\n",
    "                    validation_split = 0.2, verbose=0, callbacks=[early_stop, PrintDot()])\n",
    "\n",
    "plot_history(history)"
   ]
  },
  {
   "cell_type": "code",
   "execution_count": 30,
   "metadata": {},
   "outputs": [
    {
     "name": "stdout",
     "output_type": "stream",
     "text": [
      "WARNING:tensorflow:Falling back from v2 loop because of error: Failed to find data adapter that can handle input: <class 'pandas.core.frame.DataFrame'>, <class 'NoneType'>\n",
      "137/137 - 0s - loss: 0.1601 - mae: 0.2376 - mse: 0.1601\n",
      "Testing set Mean Abs Error:  0.24 quality\n"
     ]
    }
   ],
   "source": [
    "# Let's see how well the model generalizes by using the test set,was not used when training the model. \n",
    "# This tells us how well we can expect the model to predict when we use it in the real world.\n",
    "\n",
    "loss, mae, mse = model.evaluate(normed_test_data, test_labels, verbose=2)\n",
    "\n",
    "print(\"Testing set Mean Abs Error: {:5.2f} quality\".format(mae))"
   ]
  },
  {
   "cell_type": "code",
   "execution_count": 31,
   "metadata": {},
   "outputs": [
    {
     "name": "stdout",
     "output_type": "stream",
     "text": [
      "WARNING:tensorflow:Falling back from v2 loop because of error: Failed to find data adapter that can handle input: <class 'pandas.core.frame.DataFrame'>, <class 'NoneType'>\n"
     ]
    },
    {
     "data": {
      "image/png": "[encoded data removed]",
      "text/plain": [
       "<Figure size 432x288 with 1 Axes>"
      ]
     },
     "metadata": {
      "needs_background": "light"
     },
     "output_type": "display_data"
    }
   ],
   "source": [
    "# Make predictions\n",
    "# Finally, predict MPG values using data in the testing set:\n",
    "\n",
    "test_predictions = model.predict(normed_test_data).flatten()\n",
    "\n",
    "a = plt.axes(aspect='equal')\n",
    "plt.scatter(test_labels, test_predictions)\n",
    "plt.xlabel('True Values [quality]')\n",
    "plt.ylabel('Predictions [quality]')\n",
    "lims = [2, 10]\n",
    "plt.xlim(lims)\n",
    "plt.ylim(lims)\n",
    "_ = plt.plot(lims, lims)"
   ]
  },
  {
   "cell_type": "code",
   "execution_count": 32,
   "metadata": {},
   "outputs": [
    {
     "data": {
      "image/png": "[encoded data removed]",
      "text/plain": [
       "<Figure size 432x288 with 1 Axes>"
      ]
     },
     "metadata": {
      "needs_background": "light"
     },
     "output_type": "display_data"
    }
   ],
   "source": [
    "error = test_predictions - test_labels\n",
    "plt.hist(error, bins = 25)\n",
    "plt.xlabel(\"Prediction Error [quality]\")\n",
    "_ = plt.ylabel(\"Count\")"
   ]
  },
  {
   "cell_type": "markdown",
   "metadata": {},
   "source": [
    "### Predictions By Example"
   ]
  },
  {
   "cell_type": "code",
   "execution_count": 33,
   "metadata": {},
   "outputs": [],
   "source": [
    "# pick samples\n",
    "i = 10\n",
    "example_batch1 = normed_test_data[:i]\n",
    "example_test_labels = test_labels[:i]"
   ]
  },
  {
   "cell_type": "code",
   "execution_count": 34,
   "metadata": {},
   "outputs": [
    {
     "data": {
      "text/html": [
       "<div>\n",
       "<style scoped>\n",
       "    .dataframe tbody tr th:only-of-type {\n",
       "        vertical-align: middle;\n",
       "    }\n",
       "\n",
       "    .dataframe tbody tr th {\n",
       "        vertical-align: top;\n",
       "    }\n",
       "\n",
       "    .dataframe thead th {\n",
       "        text-align: right;\n",
       "    }\n",
       "</style>\n",
       "<table border=\"1\" class=\"dataframe\">\n",
       "  <thead>\n",
       "    <tr style=\"text-align: right;\">\n",
       "      <th></th>\n",
       "      <th>Clump_Thickness</th>\n",
       "      <th>Cell_Size</th>\n",
       "      <th>Cell_Shape</th>\n",
       "      <th>Marginal_Adhesion</th>\n",
       "      <th>Epithelial_Cell</th>\n",
       "      <th>Bare_Nuclei</th>\n",
       "      <th>Bland_Chromatin</th>\n",
       "      <th>Normal_Nucleoli</th>\n",
       "      <th>Mitoses</th>\n",
       "    </tr>\n",
       "  </thead>\n",
       "  <tbody>\n",
       "    <tr>\n",
       "      <th>9</th>\n",
       "      <td>-0.138140</td>\n",
       "      <td>-0.370032</td>\n",
       "      <td>-0.725574</td>\n",
       "      <td>-0.636913</td>\n",
       "      <td>-0.546966</td>\n",
       "      <td>-0.709955</td>\n",
       "      <td>-0.582656</td>\n",
       "      <td>-0.602094</td>\n",
       "      <td>-0.346278</td>\n",
       "    </tr>\n",
       "    <tr>\n",
       "      <th>11</th>\n",
       "      <td>-0.849693</td>\n",
       "      <td>-0.694329</td>\n",
       "      <td>-0.725574</td>\n",
       "      <td>-0.636913</td>\n",
       "      <td>-0.546966</td>\n",
       "      <td>-0.709955</td>\n",
       "      <td>-0.582656</td>\n",
       "      <td>-0.602094</td>\n",
       "      <td>-0.346278</td>\n",
       "    </tr>\n",
       "    <tr>\n",
       "      <th>19</th>\n",
       "      <td>0.573412</td>\n",
       "      <td>-0.694329</td>\n",
       "      <td>-0.725574</td>\n",
       "      <td>-0.636913</td>\n",
       "      <td>-0.546966</td>\n",
       "      <td>-0.709955</td>\n",
       "      <td>-0.177395</td>\n",
       "      <td>-0.602094</td>\n",
       "      <td>-0.346278</td>\n",
       "    </tr>\n",
       "    <tr>\n",
       "      <th>24</th>\n",
       "      <td>-1.205469</td>\n",
       "      <td>-0.694329</td>\n",
       "      <td>-0.725574</td>\n",
       "      <td>-0.636913</td>\n",
       "      <td>-0.546966</td>\n",
       "      <td>-0.709955</td>\n",
       "      <td>-0.177395</td>\n",
       "      <td>-0.602094</td>\n",
       "      <td>-0.346278</td>\n",
       "    </tr>\n",
       "    <tr>\n",
       "      <th>29</th>\n",
       "      <td>-1.205469</td>\n",
       "      <td>-0.694329</td>\n",
       "      <td>-0.069674</td>\n",
       "      <td>-0.636913</td>\n",
       "      <td>-0.546966</td>\n",
       "      <td>-0.709955</td>\n",
       "      <td>-0.987917</td>\n",
       "      <td>-0.602094</td>\n",
       "      <td>-0.346278</td>\n",
       "    </tr>\n",
       "    <tr>\n",
       "      <th>33</th>\n",
       "      <td>-0.849693</td>\n",
       "      <td>-0.694329</td>\n",
       "      <td>-0.725574</td>\n",
       "      <td>-0.285646</td>\n",
       "      <td>-0.546966</td>\n",
       "      <td>-0.709955</td>\n",
       "      <td>-0.177395</td>\n",
       "      <td>-0.602094</td>\n",
       "      <td>-0.346278</td>\n",
       "    </tr>\n",
       "    <tr>\n",
       "      <th>37</th>\n",
       "      <td>0.573412</td>\n",
       "      <td>-0.370032</td>\n",
       "      <td>-0.725574</td>\n",
       "      <td>-0.636913</td>\n",
       "      <td>-0.994037</td>\n",
       "      <td>-0.709955</td>\n",
       "      <td>1.443650</td>\n",
       "      <td>-0.602094</td>\n",
       "      <td>-0.346278</td>\n",
       "    </tr>\n",
       "    <tr>\n",
       "      <th>43</th>\n",
       "      <td>0.217636</td>\n",
       "      <td>0.927158</td>\n",
       "      <td>0.586226</td>\n",
       "      <td>1.119422</td>\n",
       "      <td>3.029601</td>\n",
       "      <td>-0.709955</td>\n",
       "      <td>-0.177395</td>\n",
       "      <td>-0.602094</td>\n",
       "      <td>-0.346278</td>\n",
       "    </tr>\n",
       "    <tr>\n",
       "      <th>44</th>\n",
       "      <td>1.996518</td>\n",
       "      <td>2.224348</td>\n",
       "      <td>2.225975</td>\n",
       "      <td>0.416888</td>\n",
       "      <td>2.135459</td>\n",
       "      <td>-0.709955</td>\n",
       "      <td>1.848911</td>\n",
       "      <td>2.432461</td>\n",
       "      <td>-0.346278</td>\n",
       "    </tr>\n",
       "    <tr>\n",
       "      <th>45</th>\n",
       "      <td>-1.205469</td>\n",
       "      <td>-0.694329</td>\n",
       "      <td>-0.725574</td>\n",
       "      <td>-0.636913</td>\n",
       "      <td>-0.546966</td>\n",
       "      <td>-0.709955</td>\n",
       "      <td>-0.582656</td>\n",
       "      <td>-0.602094</td>\n",
       "      <td>0.216424</td>\n",
       "    </tr>\n",
       "  </tbody>\n",
       "</table>\n",
       "</div>"
      ],
      "text/plain": [
       "    Clump_Thickness  Cell_Size  Cell_Shape   Marginal_Adhesion  \\\n",
       "9         -0.138140  -0.370032   -0.725574           -0.636913   \n",
       "11        -0.849693  -0.694329   -0.725574           -0.636913   \n",
       "19         0.573412  -0.694329   -0.725574           -0.636913   \n",
       "24        -1.205469  -0.694329   -0.725574           -0.636913   \n",
       "29        -1.205469  -0.694329   -0.069674           -0.636913   \n",
       "33        -0.849693  -0.694329   -0.725574           -0.285646   \n",
       "37         0.573412  -0.370032   -0.725574           -0.636913   \n",
       "43         0.217636   0.927158    0.586226            1.119422   \n",
       "44         1.996518   2.224348    2.225975            0.416888   \n",
       "45        -1.205469  -0.694329   -0.725574           -0.636913   \n",
       "\n",
       "    Epithelial_Cell  Bare_Nuclei  Bland_Chromatin  Normal_Nucleoli   Mitoses  \n",
       "9         -0.546966    -0.709955        -0.582656        -0.602094 -0.346278  \n",
       "11        -0.546966    -0.709955        -0.582656        -0.602094 -0.346278  \n",
       "19        -0.546966    -0.709955        -0.177395        -0.602094 -0.346278  \n",
       "24        -0.546966    -0.709955        -0.177395        -0.602094 -0.346278  \n",
       "29        -0.546966    -0.709955        -0.987917        -0.602094 -0.346278  \n",
       "33        -0.546966    -0.709955        -0.177395        -0.602094 -0.346278  \n",
       "37        -0.994037    -0.709955         1.443650        -0.602094 -0.346278  \n",
       "43         3.029601    -0.709955        -0.177395        -0.602094 -0.346278  \n",
       "44         2.135459    -0.709955         1.848911         2.432461 -0.346278  \n",
       "45        -0.546966    -0.709955        -0.582656        -0.602094  0.216424  "
      ]
     },
     "execution_count": 34,
     "metadata": {},
     "output_type": "execute_result"
    }
   ],
   "source": [
    "# test samples\n",
    "example_batch1"
   ]
  },
  {
   "cell_type": "code",
   "execution_count": 35,
   "metadata": {},
   "outputs": [
    {
     "data": {
      "text/plain": [
       "9     2\n",
       "11    2\n",
       "19    2\n",
       "24    2\n",
       "29    2\n",
       "33    2\n",
       "37    2\n",
       "43    4\n",
       "44    4\n",
       "45    2\n",
       "Name: Class, dtype: int64"
      ]
     },
     "execution_count": 35,
     "metadata": {},
     "output_type": "execute_result"
    }
   ],
   "source": [
    "# test sample labels\n",
    "example_test_labels"
   ]
  },
  {
   "cell_type": "code",
   "execution_count": 36,
   "metadata": {},
   "outputs": [
    {
     "name": "stdout",
     "output_type": "stream",
     "text": [
      "WARNING:tensorflow:Falling back from v2 loop because of error: Failed to find data adapter that can handle input: <class 'pandas.core.frame.DataFrame'>, <class 'NoneType'>\n"
     ]
    },
    {
     "data": {
      "text/plain": [
       "array([[2.0842416],\n",
       "       [2.088401 ],\n",
       "       [2.1939769],\n",
       "       [2.080214 ],\n",
       "       [2.0788522],\n",
       "       [1.9981506],\n",
       "       [2.8712232],\n",
       "       [3.0239434],\n",
       "       [4.5156565],\n",
       "       [2.0256324]], dtype=float32)"
      ]
     },
     "execution_count": 36,
     "metadata": {},
     "output_type": "execute_result"
    }
   ],
   "source": [
    "# prediction\n",
    "example_result = model.predict(example_batch1)\n",
    "example_result"
   ]
  },
  {
   "cell_type": "code",
   "execution_count": 39,
   "metadata": {},
   "outputs": [
    {
     "name": "stdout",
     "output_type": "stream",
     "text": [
      "Correct prediction\n",
      "Correct prediction\n",
      "Correct prediction\n",
      "Correct prediction\n",
      "Correct prediction\n",
      "miss classification\n",
      "Correct prediction\n",
      "miss classification\n",
      "Correct prediction\n",
      "Correct prediction\n"
     ]
    }
   ],
   "source": [
    "# More accurate results\n",
    "# rounding options (int, np.rint, np.ceil)\n",
    "import numpy as np\n",
    "\n",
    "for i in np.arange(len(example_result)):\n",
    "    if int(example_result[i]) != np.array(example_test_labels)[i]:\n",
    "        print('miss classification')\n",
    "    else:\n",
    "        print('Correct prediction')"
   ]
  },
  {
   "cell_type": "markdown",
   "metadata": {},
   "source": [
    "### The End"
   ]
  }
 ],
 "metadata": {
  "kernelspec": {
   "display_name": "Python 3",
   "language": "python",
   "name": "python3"
  },
  "language_info": {
   "codemirror_mode": {
    "name": "ipython",
    "version": 3
   },
   "file_extension": ".py",
   "mimetype": "text/x-python",
   "name": "python",
   "nbconvert_exporter": "python",
   "pygments_lexer": "ipython3",
   "version": "3.7.5"
  }
 },
 "nbformat": 4,
 "nbformat_minor": 2
}
